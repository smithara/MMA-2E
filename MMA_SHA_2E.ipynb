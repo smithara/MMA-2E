{
 "cells": [
  {
   "cell_type": "code",
   "execution_count": null,
   "id": "3a0a9c0c-97f5-4c7b-a105-fbedeb82b2a5",
   "metadata": {},
   "outputs": [],
   "source": [
    "%load_ext autoreload\n",
    "%autoreload 2"
   ]
  },
  {
   "cell_type": "code",
   "execution_count": null,
   "id": "fa64d4d1-3952-472e-9f38-82b3efc65124",
   "metadata": {},
   "outputs": [],
   "source": [
    "import datetime as dt\n",
    "\n",
    "from swarmpal.io import PalDataItem, create_paldata\n",
    "from swarmpal_mma.pal_processes import MMA_SHA_2E"
   ]
  },
  {
   "cell_type": "markdown",
   "id": "19db3ffc-0b01-4b14-bc08-549fd1bd1e45",
   "metadata": {},
   "source": [
    "## Set configurations"
   ]
  },
  {
   "cell_type": "code",
   "execution_count": null,
   "id": "e47d3e46-c8ea-47d1-92a7-e35d7ed916ff",
   "metadata": {},
   "outputs": [],
   "source": [
    "# Global parameters (should always remain the same)\n",
    "MODEL = \"'Model' = 'CHAOS-Core' + 'CHAOS-Static'\"\n",
    "MODEL_WITH_IONO = \"'Model' = 'CHAOS-Core' + 'CHAOS-Static' + 'MIO_SHA_2C'\"\n",
    "VIRES_AUXILIARIES = [\"MLT\", \"QDLat\", \"Dst\", \"QDBasis\", \"DipoleAxisVector\"]\n",
    "AVAILABLE_DATASETS = {\"Swarm-A\": \"SW_OPER_MAGA_LR_1B\", \"Swarm-B\": \"SW_OPER_MAGB_LR_1B\"}\n",
    "SAMPLING_STEP = \"PT25S\"\n",
    "\n",
    "# Tunable parameters\n",
    "PARAMS = {\"LT_limit\": 6, \"min_gm_lat\": 0, \"max_gm_lat\": 65}\n",
    "# TODO: See what should be included here from MMA_2E/utils/Config.py\n",
    "\n",
    "# Local settings (changes with each run) - these determine what external data is used\n",
    "START_TIME = dt.datetime(2024, 10, 1)\n",
    "END_TIME = dt.datetime(2024, 11, 1)\n",
    "# START_TIME = dt.datetime(2024, 10, 1)\n",
    "# END_TIME = dt.datetime(2024, 10, 2)\n",
    "SPACECRAFTS_TO_USE = [\"Swarm-A\", \"Swarm-B\"]  # corresponds to AVAILABLE_DATASETS"
   ]
  },
  {
   "cell_type": "markdown",
   "id": "06e08828-35c8-441b-bb10-15fa347118fa",
   "metadata": {},
   "source": [
    "## Fetch data using SwarmPAL"
   ]
  },
  {
   "cell_type": "code",
   "execution_count": null,
   "id": "c1491efb-5fdf-46ea-aa03-c535a1e25190",
   "metadata": {},
   "outputs": [],
   "source": [
    "def get_paldatatime_vires_config(\n",
    "    collection=None, start_time=None, end_time=None, model=None\n",
    "):\n",
    "    \"\"\"Set of options which are passed through to viresclient\n",
    "    For options, see https://swarmpal.readthedocs.io/en/latest/api/io.html#swarmpal.io.PalDataItem.from_vires\n",
    "    \"\"\"\n",
    "    return dict(\n",
    "        collection=collection,\n",
    "        measurements=[\"B_NEC\"],\n",
    "        models=[model],\n",
    "        auxiliaries=VIRES_AUXILIARIES,\n",
    "        sampling_step=SAMPLING_STEP,\n",
    "        start_time=start_time,\n",
    "        end_time=end_time,\n",
    "        server_url=\"https://vires.services/ows\",\n",
    "        options=dict(asynchronous=True, show_progress=True),\n",
    "    )\n",
    "\n",
    "\n",
    "start_time = START_TIME\n",
    "end_time = END_TIME\n",
    "model = MODEL\n",
    "data_config = {\n",
    "    spacecraft: get_paldatatime_vires_config(\n",
    "        collection=AVAILABLE_DATASETS.get(spacecraft),\n",
    "        start_time=start_time,\n",
    "        end_time=end_time,\n",
    "        model=model,\n",
    "    )\n",
    "    for spacecraft in SPACECRAFTS_TO_USE\n",
    "}\n",
    "data_config"
   ]
  },
  {
   "cell_type": "code",
   "execution_count": null,
   "id": "6281fb6e-4f56-41cc-9aeb-6240b66588a3",
   "metadata": {},
   "outputs": [],
   "source": [
    "data_in = create_paldata(\n",
    "    **{\n",
    "        label: PalDataItem.from_vires(**data_params)\n",
    "        for label, data_params in data_config.items()\n",
    "    }\n",
    ")\n",
    "print(data_in)"
   ]
  },
  {
   "cell_type": "markdown",
   "id": "aa39e863-3f6e-4768-9469-602ad2d7fe38",
   "metadata": {},
   "source": [
    "## Apply the MMA_SHA_2E process"
   ]
  },
  {
   "cell_type": "code",
   "execution_count": null,
   "id": "b2278c18-f09a-40cc-8e96-7a151679caa4",
   "metadata": {},
   "outputs": [],
   "source": [
    "mma_process = MMA_SHA_2E()\n",
    "mma_process.set_config()"
   ]
  },
  {
   "cell_type": "code",
   "execution_count": null,
   "id": "09b34b5f-41ed-4c50-951c-2cc05e8b2db7",
   "metadata": {},
   "outputs": [],
   "source": [
    "data_out = mma_process(data_in)"
   ]
  },
  {
   "cell_type": "code",
   "execution_count": null,
   "id": "f021d50a",
   "metadata": {},
   "outputs": [],
   "source": [
    "print(data_out)"
   ]
  },
  {
   "cell_type": "markdown",
   "id": "f55377d7",
   "metadata": {},
   "source": [
    "## Plotting"
   ]
  },
  {
   "cell_type": "code",
   "execution_count": null,
   "id": "36c8a1fc",
   "metadata": {},
   "outputs": [],
   "source": [
    "from swarmpal_mma.Plotting.map_plot import map_surface_rtp"
   ]
  },
  {
   "cell_type": "code",
   "execution_count": null,
   "id": "f625a0db",
   "metadata": {},
   "outputs": [],
   "source": [
    "data_out[\"MMA_SHA_2E\"][\"qs\"][0, :]"
   ]
  },
  {
   "cell_type": "code",
   "execution_count": null,
   "id": "bedc07ca",
   "metadata": {},
   "outputs": [],
   "source": [
    "map_surface_rtp(data_out[\"MMA_SHA_2E\"][\"qs\"][0, :])"
   ]
  }
 ],
 "metadata": {
  "kernelspec": {
   "display_name": ".venv",
   "language": "python",
   "name": "python3"
  },
  "language_info": {
   "codemirror_mode": {
    "name": "ipython",
    "version": 3
   },
   "file_extension": ".py",
   "mimetype": "text/x-python",
   "name": "python",
   "nbconvert_exporter": "python",
   "pygments_lexer": "ipython3",
   "version": "3.12.5"
  }
 },
 "nbformat": 4,
 "nbformat_minor": 5
}
